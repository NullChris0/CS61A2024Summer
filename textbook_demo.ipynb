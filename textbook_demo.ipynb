{
 "cells": [
  {
   "cell_type": "code",
   "execution_count": 5,
   "metadata": {},
   "outputs": [],
   "source": [
    "def fib(n):\n",
    "    \"\"\"Compute the nth Fibonacci number, for n >= 2.\"\"\"\n",
    "    pred, curr = 0, 1   # Fibonacci numbers 1 and 2\n",
    "    k = 2               # Which Fib number is curr?\n",
    "    while k < n:\n",
    "        pred, curr = curr, pred + curr\n",
    "        k = k + 1\n",
    "    return curr"
   ]
  },
  {
   "cell_type": "markdown",
   "metadata": {},
   "source": [
    "断言（Assertions）：程序员使用 assert 语句来验证是否符合预期，例如验证被测试函数的输出。`assert` 语句在布尔上下文中有一个表达式，后面是一个带引号的文本行（单引号或双引号都可以，但要保持一致），如果表达式的计算结果为假值，则显示该行。"
   ]
  },
  {
   "cell_type": "code",
   "execution_count": 6,
   "metadata": {},
   "outputs": [],
   "source": [
    "assert fib(8) == 13, '第八个斐波那契数应该是 13'"
   ]
  },
  {
   "cell_type": "markdown",
   "metadata": {},
   "source": [
    "文档测试（Doctests）：Python 提供了一种方便的方法，可以将简单的测试直接放在函数的文档字符串中。文档字符串的第一行应该包含函数的单行描述，接着是一个空行，下面可能是参数和函数意图的详细描述。此外，文档字符串可能包含调用该函数的交互式会话示例："
   ]
  },
  {
   "cell_type": "code",
   "execution_count": 7,
   "metadata": {},
   "outputs": [],
   "source": [
    "def sum_naturals(n):\n",
    "    \"\"\"返回前 n 个自然数的和。\n",
    "\n",
    "    >>> sum_naturals(10)\n",
    "    55\n",
    "    >>> sum_naturals(100)\n",
    "    5050\n",
    "    \"\"\"\n",
    "    total, k = 0, 1\n",
    "    while k <= n:\n",
    "        total, k = total + k, k + 1\n",
    "    return total"
   ]
  },
  {
   "cell_type": "markdown",
   "metadata": {},
   "source": [
    "如果仅想验证单个函数的 `doctest` 交互，我们可以使用名为 `run_docstring_examples` 的 `doctest` 函数。不幸的是，这个函数调用起来有点复杂。第一个参数是要测试的函数；第二个参数应该始终是表达式 `globals()` 的结果，这是一个用于返回全局环境的内置函数；第三个参数 `True` 表示我们想要“详细”输出：所有测试运行的目录。"
   ]
  },
  {
   "cell_type": "code",
   "execution_count": 8,
   "metadata": {},
   "outputs": [
    {
     "name": "stderr",
     "output_type": "stream",
     "text": [
      "\n",
      "PYDEV DEBUGGER WARNING:\n",
      "sys.settrace() should not be used when the debugger is being used.\n",
      "This may cause the debugger to stop working correctly.\n",
      "If this is needed, please check: \n",
      "http://pydev.blogspot.com/2007/06/why-cant-pydev-debugger-work-with.html\n",
      "to see how to restore the debug tracing back correctly.\n",
      "Call Location:\n",
      "  File \"d:\\APython3.12\\Lib\\doctest.py\", line 1529, in run\n",
      "    sys.settrace(save_trace)\n",
      "\n"
     ]
    },
    {
     "name": "stdout",
     "output_type": "stream",
     "text": [
      "Finding tests in NoName\n",
      "Trying:\n",
      "    sum_naturals(10)\n",
      "Expecting:\n",
      "    55\n",
      "ok\n",
      "Trying:\n",
      "    sum_naturals(100)\n",
      "Expecting:\n",
      "    5050\n",
      "ok\n"
     ]
    }
   ],
   "source": [
    "from doctest import run_docstring_examples\n",
    "run_docstring_examples(sum_naturals, globals(), True)"
   ]
  },
  {
   "cell_type": "markdown",
   "metadata": {},
   "source": [
    "### 高阶函数\n",
    "这个 `improve` 函数是迭代求精（`repetitive refinement`）的通用表达式。它并不会指定要解决的问题，而是会将这些细节留给作为参数传入的 `update` 和 `close` 函数。"
   ]
  },
  {
   "cell_type": "code",
   "execution_count": 9,
   "metadata": {},
   "outputs": [],
   "source": [
    "def improve(update, close, guess=1):\n",
    "    while not close(guess):\n",
    "        guess = update(guess)\n",
    "    return guess"
   ]
  },
  {
   "cell_type": "markdown",
   "metadata": {},
   "source": [
    "调用 `approx_eq` 函数：如果其参数大致相等，则返回 `True`"
   ]
  },
  {
   "cell_type": "code",
   "execution_count": 10,
   "metadata": {},
   "outputs": [],
   "source": [
    "def approx_eq(x, y, tolerance=1e-15):\n",
    "    return abs(x - y) < tolerance"
   ]
  },
  {
   "cell_type": "code",
   "execution_count": 11,
   "metadata": {},
   "outputs": [],
   "source": [
    "def average(x, y):\n",
    "    return (x + y)/2\n",
    "\n",
    "def sqrt_update(x, a):\n",
    "    return average(x, a/x)"
   ]
  },
  {
   "cell_type": "markdown",
   "metadata": {},
   "source": [
    "### 嵌套定义\n",
    "上面的示例演示了将函数作为参数传递的能力显著地增强编程语言的表达能力。每个通用概念或方程都能映射到自己的小型函数上，但这种方法的一个负面后果是全局帧会变得混乱，因为小型函数的名称必须都是唯一的。另一个问题是我们受到特定函数签名的限制：`improve` 的 `update` 参数只能接受一个参数。嵌套函数定义（`Nested function definition`）解决了这两个问题，但需要我们丰富一下环境模型。"
   ]
  },
  {
   "cell_type": "code",
   "execution_count": 12,
   "metadata": {},
   "outputs": [],
   "source": [
    "def sqrt(a):\n",
    "    def sqrt_update(x):\n",
    "        return average(x, a/x)\n",
    "    def sqrt_close(x):\n",
    "        return approx_eq(x * x, a)\n",
    "    return improve(sqrt_update, sqrt_close)"
   ]
  },
  {
   "cell_type": "code",
   "execution_count": 13,
   "metadata": {},
   "outputs": [
    {
     "data": {
      "text/plain": [
       "16.0"
      ]
     },
     "execution_count": 13,
     "metadata": {},
     "output_type": "execute_result"
    }
   ],
   "source": [
    "sqrt(256)"
   ]
  },
  {
   "cell_type": "markdown",
   "metadata": {},
   "source": [
    "如何求得一个反函数"
   ]
  },
  {
   "cell_type": "code",
   "execution_count": 14,
   "metadata": {},
   "outputs": [
    {
     "data": {
      "text/plain": [
       "16"
      ]
     },
     "execution_count": 14,
     "metadata": {},
     "output_type": "execute_result"
    }
   ],
   "source": [
    "def search(f):\n",
    "    x = 0\n",
    "    while not f(x):\n",
    "        x += 1\n",
    "    return x\n",
    "def inverse(f):\n",
    "    return lambda y: search(lambda x: f(x) == y)\n",
    "sqrt = inverse(lambda x: x * x)\n",
    "sqrt(256)"
   ]
  },
  {
   "cell_type": "markdown",
   "metadata": {},
   "source": [
    "举例：牛顿法"
   ]
  },
  {
   "cell_type": "code",
   "execution_count": 15,
   "metadata": {},
   "outputs": [],
   "source": [
    "def newton_update(f, df):\n",
    "    def update(x):\n",
    "        return x - f(x) / df(x)  # 梯度\n",
    "    return update"
   ]
  },
  {
   "cell_type": "code",
   "execution_count": 16,
   "metadata": {},
   "outputs": [],
   "source": [
    "def find_zero(f, df):\n",
    "    def near_zero(x):\n",
    "        return approx_eq(f(x), 0)  # 是否接近零点\n",
    "    return improve(newton_update(f, df), near_zero)"
   ]
  },
  {
   "cell_type": "code",
   "execution_count": 17,
   "metadata": {},
   "outputs": [
    {
     "data": {
      "text/plain": [
       "8.0"
      ]
     },
     "execution_count": 17,
     "metadata": {},
     "output_type": "execute_result"
    }
   ],
   "source": [
    "def power(x, n):\n",
    "    \"\"\"返回 x * x * x * ... * x，n 个 x 相乘\"\"\"\n",
    "    product, k = 1, 0\n",
    "    while k < n:\n",
    "        product, k = product * x, k + 1\n",
    "    return product\n",
    "\n",
    "def nth_root_of_a(n, a):\n",
    "    def f(x):\n",
    "        return power(x, n) - a\n",
    "    def df(x):\n",
    "        return n * power(x, n-1)\n",
    "    return find_zero(f, df)\n",
    "\n",
    "nth_root_of_a(2, 64)"
   ]
  },
  {
   "cell_type": "code",
   "execution_count": 18,
   "metadata": {},
   "outputs": [
    {
     "data": {
      "image/png": "[encoded data removed]",
      "text/plain": [
       "<Figure size 640x480 with 1 Axes>"
      ]
     },
     "metadata": {},
     "output_type": "display_data"
    }
   ],
   "source": [
    "import matplotlib.pyplot as plt\n",
    "import numpy as np\n",
    "\n",
    "def f(x, n, a):\n",
    "    return x ** n - a\n",
    "\n",
    "a = 64\n",
    "x = np.linspace(0, 10, 100)\n",
    "plt.ylim(-70, 0)\n",
    "plt.plot(x, f(x, 2, a), x, f(x, 3, a), x, f(x, 6, a))\n",
    "plt.grid()\n",
    "plt.show()\n"
   ]
  },
  {
   "cell_type": "markdown",
   "metadata": {},
   "source": [
    "递归"
   ]
  },
  {
   "cell_type": "code",
   "execution_count": 19,
   "metadata": {},
   "outputs": [
    {
     "name": "stdout",
     "output_type": "stream",
     "text": [
      "1\n",
      "12\n",
      "123\n",
      "1234\n",
      "12345\n",
      "1234\n",
      "123\n",
      "12\n",
      "1\n"
     ]
    }
   ],
   "source": [
    "grow = lambda n: f_then_g(grow, print, n // 10)\n",
    "shrink = lambda n: f_then_g(print, shrink, n // 10)\n",
    "\n",
    "def f_then_g(f, g, n):\n",
    "    if n:\n",
    "        f(n)\n",
    "        g(n)\n",
    "def inverse_cascode(n):\n",
    "    grow(n)\n",
    "    print(n)\n",
    "    shrink(n)\n",
    "\n",
    "inverse_cascode(12345)"
   ]
  },
  {
   "cell_type": "markdown",
   "metadata": {},
   "source": [
    "切片与列表（一种实现链表的原理）\n",
    "\n",
    "作为左值使用会改变原位置的指向\n",
    "\n",
    "作为右值使用会返回一个新列表"
   ]
  },
  {
   "cell_type": "code",
   "execution_count": 20,
   "metadata": {},
   "outputs": [
    {
     "data": {
      "text/plain": [
       "True"
      ]
     },
     "execution_count": 20,
     "metadata": {},
     "output_type": "execute_result"
    }
   ],
   "source": [
    "t = [1, 3, 2]\n",
    "t[1:3] = [t]\n",
    "t[1] is t"
   ]
  },
  {
   "cell_type": "code",
   "execution_count": 21,
   "metadata": {},
   "outputs": [
    {
     "data": {
      "text/plain": [
       "[[1, 2, [[3, 4]]], [3, 4]]"
      ]
     },
     "execution_count": 21,
     "metadata": {},
     "output_type": "execute_result"
    }
   ],
   "source": [
    "s = [[1, 2], [3, 4]]\n",
    "s[0].append(s[1:2])\n",
    "s"
   ]
  },
  {
   "cell_type": "markdown",
   "metadata": {},
   "source": [
    "树的数据抽象由构造函数 `tree`、选择器 `label` 和 `branches` 组成\n",
    "\n",
    "只有当树有根标签并且所有分支也是树时，树才是结构良好的。在 `tree` 构造函数中使用了 `is_tree` 函数以验证所有分支是否结构良好。\n",
    "\n",
    "`is_leaf` 函数检查树是否有分支，若无分支则为叶子节点"
   ]
  },
  {
   "cell_type": "code",
   "execution_count": 22,
   "metadata": {},
   "outputs": [],
   "source": [
    "def tree(root_label, branches=[]):\n",
    "    for branch in branches:\n",
    "        assert is_tree(branch), '分支必须是树'\n",
    "    return [root_label] + list(branches)\n",
    "def label(tree):\n",
    "    return tree[0]\n",
    "def branches(tree):\n",
    "    return tree[1:]\n",
    "def is_tree(tree):\n",
    "    if type(tree) != list or len(tree) < 1:\n",
    "        return False\n",
    "    for branch in branches(tree):\n",
    "        if not is_tree(branch):\n",
    "            return False\n",
    "    return True\n",
    "def is_leaf(tree):\n",
    "    return not branches(tree)"
   ]
  },
  {
   "cell_type": "code",
   "execution_count": 23,
   "metadata": {},
   "outputs": [
    {
     "data": {
      "text/plain": [
       "[3, [1], [2, [1], [1]]]"
      ]
     },
     "execution_count": 23,
     "metadata": {},
     "output_type": "execute_result"
    }
   ],
   "source": [
    "# 树可以通过嵌套表达式来构造\n",
    "tree(3, [tree(1), tree(2, [tree(1), tree(1)])])"
   ]
  },
  {
   "cell_type": "markdown",
   "metadata": {},
   "source": [
    "**分割树**（Partition trees）：树也可以用来表示将一个正整数分割为若干个正整数的过程。比如可通过一个形式为二叉树的分割树来表示将 `n` 分割为不超过 `m` 的若干正整数之和的计算过程中所做的选择。在非叶子节点的分割树节点中：\n",
    "\n",
    "• 根标签是 `m`。\n",
    "\n",
    "• 左侧（索引 0）分支包含划分 `n` 时至少使用一个 `m` 的所有方法\n",
    "\n",
    "• 右侧（索引 1）分支包含划分 `n` 时使用的正整数不超过 `m - 1` 的所有方法\n",
    "\n",
    "分割树叶子节点上的标签表示从树根到叶子的路径是否分割成功。"
   ]
  },
  {
   "cell_type": "code",
   "execution_count": 24,
   "metadata": {},
   "outputs": [],
   "source": [
    "def partition_tree(n, m):\n",
    "    \"\"\"返回将 n 分割成不超过 m 的若干正整数之和的分割树\"\"\"\n",
    "    if n == 0:\n",
    "        return tree(True)\n",
    "    elif n < 0 or m == 0:\n",
    "        return tree(False)\n",
    "    else:\n",
    "        left = partition_tree(n-m, m)\n",
    "        right = partition_tree(n, m-1)\n",
    "        return tree(m, [left, right])\n",
    "    \n",
    "def print_parts(tree, partition=[]):\n",
    "        if is_leaf(tree):\n",
    "            if label(tree):\n",
    "                print(' + '.join(partition))\n",
    "        else:\n",
    "            left, right = branches(tree)\n",
    "            m = str(label(tree))\n",
    "            print_parts(left, partition + [m])\n",
    "            print_parts(right, partition)"
   ]
  },
  {
   "cell_type": "markdown",
   "metadata": {},
   "source": [
    "另一个遍历树的树递归过程是将分割树的所有分割方案打印。每个分区都构造为一个列表，当到达叶子节点且节点标签为 `True` 时就会打印分区。"
   ]
  },
  {
   "cell_type": "code",
   "execution_count": 25,
   "metadata": {},
   "outputs": [
    {
     "name": "stdout",
     "output_type": "stream",
     "text": [
      "2\n",
      "1 + 1\n"
     ]
    }
   ],
   "source": [
    "print_parts(partition_tree(2, 2))"
   ]
  },
  {
   "cell_type": "code",
   "execution_count": 26,
   "metadata": {},
   "outputs": [],
   "source": [
    "empty = 'empty'\n",
    "def is_link(s):\n",
    "    \"\"\"判断 s 是否为链表\"\"\"\n",
    "    return s == empty or (len(s) == 2 and is_link(s[1]))\n",
    "def link(first, rest):\n",
    "    \"\"\"用 first 和 rest 构建一个链表\"\"\"\n",
    "    assert is_link(rest), \" rest 必须是一个链表\"\n",
    "    return [first, rest]\n",
    "def first(s):\n",
    "    \"\"\"返回链表 s 的第一个元素\"\"\"\n",
    "    assert is_link(s), \" first 只能用于链表\"\n",
    "    assert s != empty, \"空链表没有第一个元素\"\n",
    "    return s[0]\n",
    "def rest(s):\n",
    "    \"\"\"返回 s 的剩余元素\"\"\"\n",
    "    assert is_link(s), \" rest 只能用于链表\"\n",
    "    assert s != empty, \"空链表没有剩余元素\"\n",
    "    return s[1]"
   ]
  },
  {
   "cell_type": "code",
   "execution_count": 27,
   "metadata": {},
   "outputs": [
    {
     "data": {
      "text/plain": [
       "[1, [2, [3, 'empty']]]"
      ]
     },
     "execution_count": 27,
     "metadata": {},
     "output_type": "execute_result"
    }
   ],
   "source": [
    "four = link(1, link(2, link(3, empty)))\n",
    "four"
   ]
  },
  {
   "cell_type": "markdown",
   "metadata": {},
   "source": [
    "我们可以利用列表的构造器函数 `list` 来对一个列表进行复制。复制完成后，两个列表数据的改动不会再影响彼此，除非二者共享了同一份数据。\n",
    "\n",
    "```python\n",
    ">>> nest = list(suits)  # 复制一个与 suits 相同的列表，并命名为 nest\n",
    "```"
   ]
  },
  {
   "cell_type": "markdown",
   "metadata": {},
   "source": [
    "Python 语言并不让我们直接访问列表的实现细节，而只提供了语言内置的可以变更数据的方法。为了理解如何使用具有局部状态的函数来表示可变列表，我们现在将开发一个可变链表的实现。"
   ]
  },
  {
   "cell_type": "code",
   "execution_count": 28,
   "metadata": {},
   "outputs": [],
   "source": [
    "def join_link(s, separator):\n",
    "        \"\"\"返回由 separator 分隔的 s 中的所有元素组成的字符串\"\"\"\n",
    "        if s == empty:\n",
    "            return \"\"\n",
    "        elif rest(s) == empty:\n",
    "            return str(first(s))\n",
    "        else:\n",
    "            return str(first(s)) + separator + join_link(rest(s), separator)"
   ]
  },
  {
   "cell_type": "code",
   "execution_count": 29,
   "metadata": {},
   "outputs": [],
   "source": [
    "def mutable_link():\n",
    "    \"\"\"返回一个可变链表的函数\"\"\"\n",
    "    contents = empty\n",
    "    def dispatch(message, value=None):\n",
    "        nonlocal contents\n",
    "        if message == 'len':\n",
    "            return len_link(contents)\n",
    "        elif message == 'getitem':\n",
    "            return getitem_link(contents, value)\n",
    "        elif message == 'push_first':\n",
    "            contents = link(value, contents)\n",
    "        elif message == 'pop_first':\n",
    "            f = first(contents)\n",
    "            contents = rest(contents)\n",
    "            return f\n",
    "        elif message == 'str':\n",
    "            return join_link(contents, \", \")\n",
    "    return dispatch"
   ]
  },
  {
   "cell_type": "code",
   "execution_count": 30,
   "metadata": {},
   "outputs": [],
   "source": [
    "def to_mutable_link(source):\n",
    "    \"\"\"返回一个与原列表相同内容的函数列表\"\"\"\n",
    "    s = mutable_link()\n",
    "    for element in reversed(source):\n",
    "        s('push_first', element)\n",
    "    return s"
   ]
  },
  {
   "cell_type": "code",
   "execution_count": 31,
   "metadata": {},
   "outputs": [
    {
     "name": "stdout",
     "output_type": "stream",
     "text": [
      "1, 2, 3, 4\n"
     ]
    }
   ],
   "source": [
    "s = to_mutable_link([1, 2, 3, 4])\n",
    "print(s('str'))"
   ]
  },
  {
   "cell_type": "markdown",
   "metadata": {},
   "source": [
    "迭代器可以返回自身"
   ]
  },
  {
   "cell_type": "code",
   "execution_count": 32,
   "metadata": {},
   "outputs": [
    {
     "name": "stdout",
     "output_type": "stream",
     "text": [
      "1 2\n",
      "3 4\n",
      "5 6\n",
      "7 8\n",
      "9 "
     ]
    }
   ],
   "source": [
    "ss = [1,2,3,4,5,6,7,8,9]\n",
    "t = iter(ss)\n",
    "tt = iter(t)\n",
    "while True:\n",
    "    try:\n",
    "        print(next(t), end=' ')\n",
    "        print(next(tt))\n",
    "    except StopIteration:\n",
    "        break"
   ]
  },
  {
   "cell_type": "markdown",
   "metadata": {},
   "source": [
    "Python中所有的对象都有两种字符串表示形式：`str` 和 `repr`。One of is legible to humans, another is legible to Python interpreter."
   ]
  },
  {
   "cell_type": "code",
   "execution_count": 33,
   "metadata": {},
   "outputs": [
    {
     "data": {
      "text/plain": [
       "True"
      ]
     },
     "execution_count": 33,
     "metadata": {},
     "output_type": "execute_result"
    }
   ],
   "source": [
    "# repr字符串可以被重新计算为原对象\n",
    "from fractions import Fraction\n",
    "frac = eval(repr(Fraction(1, 2)))\n",
    "isinstance(frac, Fraction)"
   ]
  },
  {
   "cell_type": "code",
   "execution_count": 34,
   "metadata": {},
   "outputs": [
    {
     "name": "stdout",
     "output_type": "stream",
     "text": [
      "<class 'fractions.Fraction'>\n",
      "<class 'fractions.Fraction'>\n",
      "1/2\n",
      "Fraction(1, 2)\n",
      "<built-in function min>\n",
      "<built-in function min>\n"
     ]
    }
   ],
   "source": [
    "print(str(Fraction))\n",
    "print(repr(Fraction))\n",
    "print(str(frac))\n",
    "print(repr(frac))\n",
    "print(repr(min))\n",
    "print(str(min))"
   ]
  },
  {
   "cell_type": "markdown",
   "metadata": {},
   "source": [
    "内置的 `str` 和 `repr` 函数表现出多态性，根据传入的参数类型，返回不同的字符串表示形式。\n",
    "\n",
    "They invoke a zero-argument method on their argument.\n",
    "\n",
    "这实际上是通过传入对象的 `__str__` 和 `__repr__` 方法来实现的。在 Python 中，每个对象都可以定义自己的 `__str__` 和 `__repr__` 方法，从而改变 `str` 和 `repr` 函数的行为。"
   ]
  },
  {
   "cell_type": "code",
   "execution_count": 35,
   "metadata": {},
   "outputs": [
    {
     "name": "stdout",
     "output_type": "stream",
     "text": [
      "Bear()\n",
      "Bear()\n",
      "Bear()\n",
      "Bear()\n",
      "Bear()\n",
      "a bear\n",
      "a bear\n",
      "Bear()\n",
      "a bear\n",
      "Bear()\n"
     ]
    }
   ],
   "source": [
    "class Bear:\n",
    "    '''当没有__str__方法时，默认使用__repr__'''\n",
    "    def __repr__(self):\n",
    "        return 'Bear()'\n",
    "oski = Bear()\n",
    "print(oski)\n",
    "print(str(oski))\n",
    "print(repr(oski))\n",
    "print(oski.__str__())\n",
    "print(oski.__repr__())\n",
    "\n",
    "class Bear:\n",
    "    def __repr__(self):\n",
    "        return 'Bear()'\n",
    "    def __str__(self):\n",
    "        return 'a bear'\n",
    "oski = Bear()\n",
    "print(oski)\n",
    "print(str(oski))\n",
    "print(repr(oski))\n",
    "print(oski.__str__())\n",
    "print(oski.__repr__())"
   ]
  },
  {
   "cell_type": "code",
   "execution_count": 36,
   "metadata": {},
   "outputs": [
    {
     "name": "stdout",
     "output_type": "stream",
     "text": [
      "a bear\n",
      "a bear\n",
      "Bear()\n",
      "this bear\n",
      "oski\n"
     ]
    }
   ],
   "source": [
    "class Bear:\n",
    "    '''内置的str和repr函数会忽略实例属性，而通过点表达式进行计算时，首先会匹配到实例属性'''\n",
    "    def __init__(self):\n",
    "        self.__repr__ = lambda: 'oski'\n",
    "        self.__str__ = lambda: 'this bear'\n",
    "    def __repr__(self):\n",
    "        return 'Bear()'\n",
    "    def __str__(self):\n",
    "        return 'a bear'\n",
    "oski = Bear()\n",
    "print(oski)\n",
    "print(str(oski))\n",
    "print(repr(oski))\n",
    "print(oski.__str__())\n",
    "print(oski.__repr__())"
   ]
  },
  {
   "cell_type": "code",
   "execution_count": 37,
   "metadata": {},
   "outputs": [
    {
     "name": "stdout",
     "output_type": "stream",
     "text": [
      "a bear\n",
      "a bear\n",
      "Bear()\n",
      "this bear\n",
      "oski\n"
     ]
    }
   ],
   "source": [
    "# 真正的内部实现应该是这样（忽略实例属性的特征）：\n",
    "def repr(x):\n",
    "    return type(x).__repr__(x)\n",
    "def str(x):\n",
    "    t = type(x)\n",
    "    if hasattr(t, '__str__'):\n",
    "        return t.__str__(x)\n",
    "    else:\n",
    "        return repr(x)\n",
    "oski = Bear()\n",
    "print(oski)\n",
    "print(str(oski))\n",
    "print(repr(oski))\n",
    "print(oski.__str__())\n",
    "print(oski.__repr__())"
   ]
  },
  {
   "cell_type": "markdown",
   "metadata": {},
   "source": [
    "#### Message Passing\n",
    "在面向对象编程中，对象之间的交互是通过发送消息来实现的。`Python` 中是通过查找对象的 `attribute` 或是 `method` 来实现的，这种机制允许不同的对象通过相同的属性名称来响应消息。\n",
    "#### Shared Message\n",
    "共享消息的概念是基于多态性，即不同的类可以实现同样的接口或方法，这样就能够对同样的消息（方法调用）作出相似的反应。这样的方法提供了一种强大的抽象手段\n",
    "#### Interface\n",
    "接口是一组 `Shared Message` 以及这些消息的含义的规范。通过实现相同接口的方法，不同的类可以保证提供一致的行为，这样调用者可以不用关心对象的具体类型，只需关注其接口定义。\n",
    "#### Example\n",
    "实现了 `__repr__` 和 `__str__` 方法的类，提供了一个用于生成字符串表示的接口。不同的类通过实现这两个方法，提供了一种统一的方式将对象转换为字符串。这种实现方式创建了一个接口，使得这些类能够在生成字符串表示时表现出一致的行为。"
   ]
  },
  {
   "cell_type": "code",
   "execution_count": 38,
   "metadata": {},
   "outputs": [],
   "source": [
    "class Radio:\n",
    "    def __init__(self, n, d) -> None:\n",
    "        self.numer = n\n",
    "        self.denom = d\n",
    "    def __repr__(self) -> str:\n",
    "        return f'Radio({self.numer}, {self.denom})'\n",
    "    def __str__(self) -> str:\n",
    "        return f'{self.numer}/{self.denom}'\n",
    "    def __add__(self, other):\n",
    "        if isinstance(other, int):\n",
    "            other = Radio(other, 1)\n",
    "        if isinstance(other, float):\n",
    "            return float(self) + other\n",
    "        n = self.numer * other.denom + other.numer * self.denom\n",
    "        d = self.denom * other.denom\n",
    "        g = gcd(n, d)\n",
    "        return Radio(n // g, d // g)\n",
    "    def __eq__(self, value: object) -> bool:\n",
    "        if isinstance(value, int):\n",
    "            return float(self) == value\n",
    "        if isinstance(value, float):\n",
    "            return value == float(self)\n",
    "        return self.numer == value.numer and self.denom == value.denom\n",
    "\n",
    "    def __float__(self):\n",
    "        return self.numer / self.denom\n",
    "    __radd__ = __add__\n",
    "    \n",
    "def gcd(a, b):\n",
    "    while a != b:\n",
    "        a, b = min(a, b), abs(a - b)\n",
    "    return a"
   ]
  },
  {
   "cell_type": "code",
   "execution_count": 39,
   "metadata": {},
   "outputs": [
    {
     "data": {
      "text/plain": [
       "True"
      ]
     },
     "execution_count": 39,
     "metadata": {},
     "output_type": "execute_result"
    }
   ],
   "source": [
    "Radio(1, 3) + 1 == 1 + Radio(1, 3)"
   ]
  },
  {
   "cell_type": "markdown",
   "metadata": {},
   "source": [
    "`Tail recursion` is a special case of recursion where the recursive call is the last operation in the function. This allows the compiler or interpreter to optimize the recursion and avoid stack overflow.Tail recursion functions can take constant space, as the recursive call does not create new frames, the value of expression can just return by the last recursive call.\n",
    "For example:\n",
    "```python\n",
    "def factorial(n, acc):\n",
    "    if n == 0:\n",
    "        return acc\n",
    "    else:\n",
    "        return factorial(n - 1, n * acc)\n",
    "```\n",
    "As a result, the procedure can be optimized to an iterative one when interpreted or compiled. (Maybe someway that use a iter loop where each turn use updated parameters). Python does not support tail recursion optimization, but languages like Scheme and Haskell do.\n",
    "```scheme\n",
    "(define (factorial n k) \n",
    "  (if (= n 0) \n",
    "      k \n",
    "      (factorial (- n 1) (* k n))))\n",
    "```\n",
    "There's a distinction that figures out whether a procedure call is tail call or not. A tail call is a procedure call in tail context which the tail context is defined as the last part of a procedure, for example: the last sub-expression of a lambda expression, the 2 & 3 sub-expression of an if expression, etc. Then, the procedure call itself should not do any otherthing after the call, for example:\n",
    "```scheme\n",
    "(define (length lst)\n",
    "    (if (null? lst) ; a tail context\n",
    "        0\n",
    "        (+ 1 (length (cdr lst) ) )  ; not a tail call, which use al\n",
    "    )\n",
    ")\n",
    "; tail call version:\n",
    "(define (length lst)\n",
    "    (define (length-iter lst acc)\n",
    "        (if (null? lst)\n",
    "            acc\n",
    "            (length-iter (cdr lst) (+ acc 1))\n",
    "        )\n",
    "    )\n",
    "    (length-iter lst 0)\n",
    ")\n",
    "```\n",
    "So, as the interpreter or compiler find tail call, it can skip frames we donn't need because the return value of the last frame can return straight up to the origincal call.Therefore, tail call shouldn't increase the environment size."
   ]
  },
  {
   "cell_type": "code",
   "execution_count": 2,
   "metadata": {},
   "outputs": [
    {
     "name": "stdout",
     "output_type": "stream",
     "text": [
      "ccbbaa\n",
      "abc\n"
     ]
    }
   ],
   "source": [
    "def reverse(s):\n",
    "    def reverse_iter(s, r):\n",
    "        if not s:\n",
    "            return r\n",
    "        return reverse_iter(s[1:], s[0] + r)\n",
    "    return reverse_iter(s, '')\n",
    "\n",
    "# 一般版本, 最后一次调用返回一个空列表，往前一次则是是s[1]->None, 再往前是s[0]->s[1]->None\n",
    "def map(fn, s):\n",
    "    if not s:\n",
    "        return None\n",
    "    else:\n",
    "        return fn(s[0]) + map(fn, s[1:])\n",
    "\n",
    "# 尾递归版本\n",
    "def map(fn, s):\n",
    "    def map_reverse(s, r):\n",
    "        if not s:\n",
    "            return r\n",
    "        return map_reverse(s[1:], fn(s[0]) + r)  # 第二个参数实际记录了每次递归调用的结果 \n",
    "    return reverse(map_reverse(s, ''))\n",
    "\n",
    "print(map(lambda x: x * 2, 'abc'))\n",
    "print(reverse('abc'))"
   ]
  },
  {
   "cell_type": "code",
   "execution_count": 5,
   "metadata": {},
   "outputs": [
    {
     "name": "stdout",
     "output_type": "stream",
     "text": [
      "False\n"
     ]
    }
   ],
   "source": [
    "# return whether s contains v\n",
    "def contains(s, v):\n",
    "    if not s:\n",
    "        return False\n",
    "    elif v == s[0]:\n",
    "        return True\n",
    "    else:\n",
    "        return contains(s[1:], v)\n",
    "# return whether s has repeated elements\n",
    "def has_repeat(s):\n",
    "    if not s:\n",
    "        return False\n",
    "    elif contains(s[1:], s[0]):\n",
    "        return True\n",
    "    else:\n",
    "        return has_repeat(s[1:])\n",
    "\n",
    "print(has_repeat('abc'))"
   ]
  }
 ],
 "metadata": {
  "kernelspec": {
   "display_name": "Python 3",
   "language": "python",
   "name": "python3"
  },
  "language_info": {
   "codemirror_mode": {
    "name": "ipython",
    "version": 3
   },
   "file_extension": ".py",
   "mimetype": "text/x-python",
   "name": "python",
   "nbconvert_exporter": "python",
   "pygments_lexer": "ipython3",
   "version": "3.12.3"
  }
 },
 "nbformat": 4,
 "nbformat_minor": 2
}
